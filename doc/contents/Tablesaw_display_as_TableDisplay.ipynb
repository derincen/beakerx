{
 "cells": [
  {
   "cell_type": "markdown",
   "metadata": {},
   "source": [
    "# Automatic Display for Tablesaw\n",
    "\n",
    "BeakerX allows you to register methods to display 3rd party classes such as Tablesaw's Tables.\n",
    "You can either write such a method in a cell yourself, or load it from a JAR.\n",
    "We include such a JAR in the documentation, and this tutorial demonstrates it."
   ]
  },
  {
   "cell_type": "code",
   "execution_count": null,
   "metadata": {},
   "outputs": [],
   "source": [
    "%classpath add mvn tech.tablesaw tablesaw-plot 0.10.0\n",
    "%import tech.tablesaw.api.Table"
   ]
  },
  {
   "cell_type": "code",
   "execution_count": null,
   "metadata": {},
   "outputs": [],
   "source": [
    "%classpath add jar resources/jar/tablesaw_0.10.0_Demo.jar\n",
    "%import com.beakerx.TablesawDisplayer\n",
    "TablesawDisplayer.register()\n",
    "OutputCell.HIDDEN"
   ]
  },
  {
   "cell_type": "markdown",
   "metadata": {},
   "source": [
    "Source code of TablesawDisplayer class\n",
    "\n",
    "```java\n",
    "package com.beakerx;\n",
    "\n",
    "import tech.tablesaw.api.Table;\n",
    "import com.twosigma.beakerx.jvm.object.OutputCell;\n",
    "import com.twosigma.beakerx.table.TableDisplay;\n",
    "import jupyter.Displayer;\n",
    "import jupyter.Displayers;\n",
    "\n",
    "import java.util.Map;\n",
    "\n",
    "public class TablesawDisplayer {\n",
    "\n",
    "  public static void register() {\n",
    "    Displayers.register(Table.class, new Displayer<Table>() {\n",
    "      @Override\n",
    "      public Map<String, String> display(Table table) {\n",
    "        new TableDisplay(\n",
    "                table.rowCount(),\n",
    "                table.columnCount(),\n",
    "                table.columnNames(),\n",
    "                new TableDisplay.Element() {\n",
    "                  @Override\n",
    "                  public String get(int columnIndex, int rowIndex) {\n",
    "                    return table.get(rowIndex,columnIndex);\n",
    "                  }\n",
    "                }\n",
    "        ).display();\n",
    "        return OutputCell.DISPLAYER_HIDDEN;\n",
    "      }\n",
    "    });\n",
    "\n",
    "  }\n",
    "}\n",
    "```"
   ]
  },
  {
   "cell_type": "code",
   "execution_count": null,
   "metadata": {},
   "outputs": [],
   "source": [
    "// This cell displays the table widget\n",
    "tornadoes = Table.read().csv(\"Tablesaw/tornadoes_2014.csv\")"
   ]
  },
  {
   "cell_type": "code",
   "execution_count": null,
   "metadata": {
    "collapsed": true
   },
   "outputs": [],
   "source": []
  }
 ],
 "metadata": {
  "kernelspec": {
   "display_name": "Groovy",
   "language": "groovy",
   "name": "groovy"
  },
  "language_info": {
   "codemirror_mode": "groovy",
   "file_extension": ".groovy",
   "mimetype": "",
   "name": "Groovy",
   "nbconverter_exporter": "",
   "version": "2.4.3"
  }
 },
 "nbformat": 4,
 "nbformat_minor": 2
}
